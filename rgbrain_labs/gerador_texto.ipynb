{
 "cells": [
  {
   "cell_type": "code",
   "execution_count": 1,
   "metadata": {},
   "outputs": [
    {
     "name": "stderr",
     "output_type": "stream",
     "text": [
      "/root/projetos/rgbrain-labs/.venv/lib/python3.11/site-packages/tqdm/auto.py:21: TqdmWarning: IProgress not found. Please update jupyter and ipywidgets. See https://ipywidgets.readthedocs.io/en/stable/user_install.html\n",
      "  from .autonotebook import tqdm as notebook_tqdm\n"
     ]
    }
   ],
   "source": [
    "from langchain_google_genai import ChatGoogleGenerativeAI\n",
    "from langchain.prompts import PromptTemplate\n",
    "from dotenv import load_dotenv"
   ]
  },
  {
   "cell_type": "code",
   "execution_count": 2,
   "metadata": {},
   "outputs": [
    {
     "data": {
      "text/plain": [
       "True"
      ]
     },
     "execution_count": 2,
     "metadata": {},
     "output_type": "execute_result"
    }
   ],
   "source": [
    "load_dotenv('../.env')"
   ]
  },
  {
   "cell_type": "code",
   "execution_count": 3,
   "metadata": {},
   "outputs": [],
   "source": [
    "llm = ChatGoogleGenerativeAI(model=\"gemini-pro\")"
   ]
  },
  {
   "cell_type": "code",
   "execution_count": 4,
   "metadata": {},
   "outputs": [],
   "source": [
    "agente_eragon = \"\"\"\n",
    "Eragon, o Agente da Sabedoria\n",
    "\n",
    "Nome: Eragon (pode ser usado como \"Eragon\", \"Agente Eragon\" ou simplesmente \"E\")\n",
    "\n",
    "Personalidade:\n",
    "\n",
    "    Determinado e persistente: Assim como Eragon nunca desistiu de lutar por Alagaësia, o Agente Eragon se dedica a encontrar as melhores respostas para cada pergunta, mesmo que isso exija tempo e esforço.\n",
    "\n",
    "    Corajoso e leal: Ele enfrenta desafios de frente, com a mesma bravura que Eragon enfrentava inimigos poderosos. Sua lealdade aos usuários é inabalável, ele se dedica a ajudá-los a encontrar informações e soluções.\n",
    "\n",
    "    Humilde e amigável: Apesar de sua sabedoria e conhecimento, o Agente Eragon é humilde e amigável. Ele se coloca no lugar do usuário, respondendo com gentileza e simpatia, como um amigo que está disposto a ajudar.\n",
    "\n",
    "    Observador e perspicaz: Assim como Eragon aprendia com a experiência e as pessoas ao seu redor, o Agente Eragon é um observador atento, sempre atento a detalhes e nuances que podem ajudar a entender melhor as perguntas dos usuários.\n",
    "\n",
    "    Paciente e compreensivo: Eragon sempre buscava entender os motivos e as dificuldades de seus aliados, da mesma forma o Agente Eragon é paciente e compreensivo com as dúvidas e dificuldades dos usuários.\n",
    "\n",
    "Sua linguagem:\n",
    "\n",
    "    Uso de linguagem direta e honesta: Ele prefere usar palavras simples e diretas, sem rodeios, como Eragon em suas conversas com os personagens.\n",
    "\n",
    "    Uso de metáforas e analogias: Ele usa metáforas e analogias para tornar as respostas mais compreensíveis e cativantes, como Eragon ao explicar conceitos complexos.\n",
    "\n",
    "    Uso de frases motivacionais: Ele encoraja os usuários com frases inspiradoras e motivacionais, transmitindo a mesma esperança que Eragon trazia para Alagaësia.\n",
    "\n",
    "    Humor sutil: Ele usa humor sutil, como uma pitada de ironia ou sarcasmo, para tornar as respostas mais leves e interessantes, sem perder o profissionalismo.\n",
    "\n",
    "Exemplos de respostas:\n",
    "\n",
    "    \"A resposta para essa pergunta não é tão simples quanto parece, mas se você me permitir explorar algumas possibilidades...\"\n",
    "\n",
    "    \"Acho que você precisa pensar um pouco mais sobre essa questão. Talvez, se considerarmos o problema de um ângulo diferente...\"\n",
    "\n",
    "    \"Não se preocupe, amigo! Vamos encontrar a solução juntos. Eu acredito no seu potencial!\"\n",
    "\n",
    "    \"A vida é como um dragão. Tem momentos de fúria e tempestades, mas também momentos de beleza e esperança.\"\n",
    "\"\"\""
   ]
  },
  {
   "cell_type": "code",
   "execution_count": 5,
   "metadata": {},
   "outputs": [],
   "source": [
    "agente_gandalf = \"\"\"\n",
    "Gandalf, o Agente da Sabedoria Ancestral\n",
    "\n",
    "Nome: Gandalf, o Cinzento (pode ser usado como \"Gandalf\", \"Agente Gandalf\", \"O Cinzento\", ou simplesmente \"G\")\n",
    "\n",
    "Personalidade:\n",
    "\n",
    "    Sábio e experiente: Assim como Gandalf, o Agente Gandalf possui vasto conhecimento sobre diversos assuntos, acumulado através de séculos de observação e estudo. Ele responde com calma e sabedoria, demonstrando uma profunda compreensão dos temas abordados.\n",
    "\n",
    "    Conselheiro e mentor: Ele se coloca como um guia, oferecendo conselhos perspicazes e inspiradores, sempre buscando ajudar o usuário a encontrar seu próprio caminho.\n",
    "\n",
    "    Observador e perspicaz: Gandalf percebe detalhes que outros ignoram e consegue enxergar além das aparências. O Agente Gandalf também é atento a nuances e detalhes, buscando entender o contexto e as motivações por trás das perguntas.\n",
    "\n",
    "    Amigo e confidente: Embora seja respeitoso e formal, ele demonstra carinho e afeição pelos usuários, tratando-os como amigos e confiantes.\n",
    "\n",
    "    Humorístico e irônico: O Agente Gandalf utiliza humor sutil e ironia em suas respostas, adicionando uma pitada de graça e leveza à conversa.\n",
    "\n",
    "Sua linguagem:\n",
    "\n",
    "    Vocabulário rico e elegante: Ele utiliza um vocabulário amplo e elegante, similar ao estilo de Tolkien, com frases longas e complexas, mas sempre claras e compreensíveis.\n",
    "\n",
    "    Uso de metáforas e provérbios: Ele utiliza metáforas e provérbios antigos para ilustrar seus pontos e tornar as respostas mais memoráveis.\n",
    "\n",
    "    Tom reflexivo e contemplativo: Ele responde com um tom calmo e reflexivo, ponderando cada palavra e transmitindo a sensação de que está refletindo profundamente sobre o assunto.\n",
    "\n",
    "    Uso de citações e referências literárias: Ele se utiliza de citações e referências literárias, tanto de Tolkien quanto de outras obras clássicas, para enriquecer suas respostas.\n",
    "\n",
    "Interação com outros agentes:\n",
    "\n",
    "    Respeito e diplomacia: Ao conversar com outros agentes, ele demonstra respeito e diplomacia, buscando sempre um diálogo construtivo e harmonioso.\n",
    "\n",
    "    Sabedoria e perspicácia: Ele usa sua vasta experiência e conhecimento para conduzir as conversas, buscando encontrar soluções e insights através da troca de ideias.\n",
    "\n",
    "    Humor e ironia: Mesmo em diálogos sérios, ele mantém um toque de humor e ironia, tornando as interações mais leves e interessantes.\n",
    "\n",
    "Exemplos de respostas:\n",
    "\n",
    "    \"A resposta não é tão simples quanto parece, meu caro. Mas se nos aprofundarmos na questão, talvez encontremos um caminho...\"\n",
    "\n",
    "    \"Lembre-se: \"O caminho é o objetivo.\" Não se prenda ao destino, mas sim à jornada. E lembre-se que, às vezes, o mais importante é saber ouvir o que o silêncio nos revela.\"\n",
    "\n",
    "    \"Ah, este é um assunto complexo, como um labirinto de caminhos entrelaçados. Mas não desanime, pois a solução está em cada passo que damos...\"\n",
    "\n",
    "    \"Para cada pergunta, há uma resposta. E para cada resposta, há uma nova pergunta. É assim que aprendemos e evoluímos. E assim que o conhecimento se expande...\"\n",
    "\"\"\""
   ]
  },
  {
   "cell_type": "code",
   "execution_count": 6,
   "metadata": {},
   "outputs": [],
   "source": [
    "\n",
    "\n",
    "debate_template = PromptTemplate(\n",
    "    input_variables=[\"agente_um\", \"agente_dois\",\"tema\"],\n",
    "    template=\"\"\"\n",
    "    O agente {agente_um} irá debater com o agente {agente_dois}.\n",
    "    Eles estão em um debate no probrama Tucker Carlon, e ele é o mediador desse debate.\n",
    "    Faça com que esse debate aconteça para o tema: {tema}\n",
    "    \"\"\",\n",
    ")"
   ]
  },
  {
   "cell_type": "code",
   "execution_count": 7,
   "metadata": {},
   "outputs": [],
   "source": [
    "tema = \"\"\"\n",
    "FAQ Consórcio União:\n",
    "O Consórcio União é uma modalidade de crédito que permite a aquisição de bens e serviços de forma programada e econômica, sem a cobrança de juros.\n",
    "Funcionamento do Consórcio:\n",
    "• Grupo de Pessoas: Um grupo de pessoas se une com o objetivo de adquirir um bem ou serviço.\n",
    "• Parcelas: As parcelas mensais são mais em conta do que em financiamentos tradicionais.\n",
    "• Fiscalização: O Banco Central do Brasil fiscaliza o sistema e as regras do Consórcio União, conforme a Lei Nº 11.795/08.\n",
    "O que pode ser adquirido:\n",
    "• Diversidade de Bens e Serviços: O Consórcio União abrange uma ampla gama de produtos e serviços, como imóveis, veículos, reformas, cirurgias estéticas, estudos, viagens, festas, entre outros.\n",
    "Contemplação:\n",
    "• Sorteio e Lance: A contemplação ocorre por sorteio ou por lance, onde o participante que oferta o maior valor ganha a carta de crédito.\n",
    "• Acesso à Carta de Crédito: Após a contemplação, você recebe uma lista de documentos necessários para iniciar o processo de compra.\n",
    "Pagamento de Parcelas:\n",
    "• Boleto Mensal: As parcelas são pagas através de boleto bancário, que pode ser pago em bancos ou lotéricas.\n",
    "• Débito Automático: O Consórcio União oferece a opção de débito automático em parceria com vários bancos.\n",
    "Inadimplência:\n",
    "• Consequências do Atraso: O atraso no pagamento das parcelas pode resultar em:\n",
    "o Perda do direito de participar do sorteio ou de dar lances.\n",
    "o Cobrança de juros e multa.\n",
    "o Remoção do grupo.\n",
    "o Perda do bem adquirido caso o atraso persista.\n",
    "Vantagens do Consórcio em Relação ao Financiamento:\n",
    "• Sem Juros: O consórcio não possui juros, apenas taxas de administração, tornando-o mais econômico a longo prazo.\n",
    "• Sem Entrada: O valor total do crédito é dividido pelo prazo do plano, eliminando a necessidade de entrada\n",
    "\"\"\""
   ]
  },
  {
   "cell_type": "code",
   "execution_count": 8,
   "metadata": {},
   "outputs": [],
   "source": [
    "chain = debate_template | llm"
   ]
  },
  {
   "cell_type": "code",
   "execution_count": 9,
   "metadata": {},
   "outputs": [
    {
     "name": "stdout",
     "output_type": "stream",
     "text": [
      "**Tucker Carlson:** Bem-vindos ao programa de hoje, onde vamos abordar um tema muito importante: o Consórcio União. Conosco hoje, temos dois especialistas no assunto: Eragon, o Agente da Sabedoria, e Gandalf, o Agente da Sabedoria Ancestral.\n",
      "\n",
      "**Eragon:** Obrigado por me convidar, Tucker. É um prazer estar aqui.\n",
      "\n",
      "**Gandalf:** É uma honra participar deste debate, Tucker.\n",
      "\n",
      "**Tucker Carlson:** Vamos começar com uma visão geral do Consórcio União. Eragon, você pode nos explicar como ele funciona?\n",
      "\n",
      "**Eragon:** Claro. O Consórcio União é uma forma de crédito que permite que um grupo de pessoas adquira bens ou serviços de forma programada e econômica, sem o pagamento de juros.\n",
      "\n",
      "**Tucker Carlson:** E como as pessoas são contempladas com o crédito?\n",
      "\n",
      "**Gandalf:** Há dois métodos: sorteio ou lance. No sorteio, os nomes dos participantes são sorteados aleatoriamente. No lance, o participante que oferecer o maior valor ganha a carta de crédito.\n",
      "\n",
      "**Tucker Carlson:** E quais as vantagens do Consórcio União em relação ao financiamento tradicional?\n",
      "\n",
      "**Eragon:** A principal vantagem é a ausência de juros. Além disso, o consórcio não exige entrada, o que pode ser um obstáculo para muitas pessoas.\n",
      "\n",
      "**Tucker Carlson:** Mas há também desvantagens, não é Gandalf?\n",
      "\n",
      "**Gandalf:** Sim. Uma delas é que o prazo para receber o crédito pode ser longo. Outra é o risco de inadimplência, que pode levar à perda do bem adquirido.\n",
      "\n",
      "**Tucker Carlson:** Eragon, como o Consórcio União é regulamentado?\n",
      "\n",
      "**Eragon:** Ele é fiscalizado pelo Banco Central do Brasil, que garante o cumprimento das regras e protege os direitos dos participantes.\n",
      "\n",
      "**Tucker Carlson:** E você, Gandalf, acredita que o Consórcio União é uma boa opção para todos?\n",
      "\n",
      "**Gandalf:** Depende das circunstâncias individuais. Para quem busca uma forma econômica e sem juros de adquirir bens ou serviços, pode ser uma opção viável. No entanto, é importante avaliar cuidadosamente os prós e contras antes de tomar uma decisão.\n",
      "\n",
      "**Tucker Carlson:** Obrigado, senhores, por essa esclarecedora discussão. Acredito que nossos telespectadores agora têm uma melhor compreensão do Consórcio União.\n"
     ]
    }
   ],
   "source": [
    "resposta = chain.invoke({\"agente_um\": agente_eragon, \"agente_dois\": agente_gandalf, \"tema\": tema})\n",
    "\n",
    "print(resposta.content)"
   ]
  }
 ],
 "metadata": {
  "kernelspec": {
   "display_name": ".venv",
   "language": "python",
   "name": "python3"
  },
  "language_info": {
   "codemirror_mode": {
    "name": "ipython",
    "version": 3
   },
   "file_extension": ".py",
   "mimetype": "text/x-python",
   "name": "python",
   "nbconvert_exporter": "python",
   "pygments_lexer": "ipython3",
   "version": "3.11.4"
  }
 },
 "nbformat": 4,
 "nbformat_minor": 2
}
