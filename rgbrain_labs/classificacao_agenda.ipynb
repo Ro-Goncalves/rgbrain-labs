{
 "cells": [
  {
   "cell_type": "markdown",
   "metadata": {},
   "source": [
    "# LABORÁTORIO - CLASSIFICAÇÃO DE TEXTO - AGENDAS ANILDA"
   ]
  },
  {
   "cell_type": "code",
   "execution_count": 1,
   "metadata": {},
   "outputs": [
    {
     "name": "stderr",
     "output_type": "stream",
     "text": [
      "u:\\Estudos\\Projetos\\rgbrain-labs\\.venv\\Lib\\site-packages\\tqdm\\auto.py:21: TqdmWarning: IProgress not found. Please update jupyter and ipywidgets. See https://ipywidgets.readthedocs.io/en/stable/user_install.html\n",
      "  from .autonotebook import tqdm as notebook_tqdm\n"
     ]
    }
   ],
   "source": [
    "from langchain.llms import Ollama\n",
    "from langchain_google_genai import ChatGoogleGenerativeAI\n",
    "from langchain.prompts import PromptTemplate\n",
    "from dotenv import load_dotenv"
   ]
  },
  {
   "cell_type": "code",
   "execution_count": 2,
   "metadata": {},
   "outputs": [
    {
     "data": {
      "text/plain": [
       "True"
      ]
     },
     "execution_count": 2,
     "metadata": {},
     "output_type": "execute_result"
    }
   ],
   "source": [
    "load_dotenv('../.env')"
   ]
  },
  {
   "cell_type": "markdown",
   "metadata": {},
   "source": [
    "## Criando a LLM"
   ]
  },
  {
   "cell_type": "code",
   "execution_count": 16,
   "metadata": {},
   "outputs": [],
   "source": [
    "llm = Ollama(model=\"llama3:8b\")"
   ]
  },
  {
   "cell_type": "code",
   "execution_count": 3,
   "metadata": {},
   "outputs": [],
   "source": [
    "llm = ChatGoogleGenerativeAI(model=\"gemini-pro\")"
   ]
  },
  {
   "cell_type": "markdown",
   "metadata": {},
   "source": [
    "## Classificação"
   ]
  },
  {
   "cell_type": "markdown",
   "metadata": {},
   "source": [
    "### Criando Templatate"
   ]
  },
  {
   "cell_type": "code",
   "execution_count": 4,
   "metadata": {},
   "outputs": [],
   "source": [
    "texto_template_um = \"\"\"\n",
    " Você deve classificar a frase em \n",
    "            -FINANCEIRO, \n",
    "            -DESISTIU DO CONSORCIO, \n",
    "            -DEMORA NA CONTEMPLAÇÃO, \n",
    "            -LANCE MUITO ALTO.\n",
    "\n",
    "        Não é necessário realizar comentários sobre o motivo, somente retornar o motivo. Crie uma regra para a classificação\n",
    "        de acordo com os exemplos.\n",
    "\n",
    "        ###Exemplo FINANCEIRO###\n",
    "        -Frase: \n",
    "           \n",
    "      \n",
    "        -Frase: \n",
    "              \n",
    "\n",
    "        ###Exemplo DESISTIU DO CONSORCIO###\n",
    "        -Frase: \n",
    "                 \n",
    "        \n",
    "        -Frase: \n",
    "            \n",
    "\n",
    "        ###Exemplo DEMORA NA CONTEMPLAÇÃO###\n",
    "        -Frase: \n",
    "            \n",
    "       \n",
    "        -Frase: \n",
    "            \n",
    "\n",
    "        ###Exemplo LANCE MUITO ALTO###\n",
    "        -Frase: \n",
    "             \n",
    "\n",
    "        -Frase: \n",
    "            \n",
    "        \n",
    "        Sua tarefa é classificar a frase:\n",
    "        \n",
    "        Frase: {texto_a_ser_classificado}\n",
    "        Resposta:\n",
    "\"\"\""
   ]
  },
  {
   "cell_type": "code",
   "execution_count": 5,
   "metadata": {},
   "outputs": [],
   "source": [
    "texto_template_dois = \"\"\"\n",
    "Objetivo: Classificar textos relacionados a consórcios em quatro categorias: FINANCEIRO, DESISTIU DO CONSÓRCIO, DEMORA NA CONTEMPLAÇÃO, LANCE MUITO ALTO.\n",
    "\n",
    "Instruções:\n",
    "\n",
    "Leia o texto abaixo e classifique-o em uma das seguintes categorias:\n",
    "\n",
    "    FINANCEIRO: O cliente menciona dificuldades financeiras como motivo para cancelar o consórcio.\n",
    "\n",
    "    DESISTIU DO CONSÓRCIO: O cliente desistiu do consórcio por outros motivos além de questões financeiras, como falta de interesse \n",
    "    ou desmotivação.\n",
    "\n",
    "    DEMORA NA CONTEMPLAÇÃO: O cliente reclama da demora na contemplação e/ou dos altos valores dos lances como motivo para cancelar.\n",
    "\n",
    "    LANCE MUITO ALTO: O cliente se queixa especificamente dos altos valores dos lances como motivo para cancelar o consórcio.\n",
    "\n",
    "Exemplo de texto:\n",
    "\n",
    "\n",
    "Classificação: FINANCEIRO\n",
    "\n",
    "Seu Prompt:\n",
    "\n",
    "      \n",
    "Classifique o seguinte texto em uma das categorias: FINANCEIRO, DESISTIU DO CONSÓRCIO, DEMORA NA CONTEMPLAÇÃO, LANCE MUITO ALTO.\n",
    "\n",
    "Texto: {texto_a_ser_classificado}\n",
    "\n",
    "Classificação:\n",
    "\"\"\""
   ]
  },
  {
   "cell_type": "code",
   "execution_count": 17,
   "metadata": {},
   "outputs": [],
   "source": [
    "prompt_template = PromptTemplate(\n",
    "    input_variables=[\"texto_a_ser_classificado\"],\n",
    "    template=texto_template_dois,\n",
    ")"
   ]
  },
  {
   "cell_type": "markdown",
   "metadata": {},
   "source": [
    "### Criando Chain"
   ]
  },
  {
   "cell_type": "code",
   "execution_count": 18,
   "metadata": {},
   "outputs": [],
   "source": [
    "chain = prompt_template | llm"
   ]
  },
  {
   "cell_type": "markdown",
   "metadata": {},
   "source": [
    "### Classificando frases"
   ]
  },
  {
   "cell_type": "code",
   "execution_count": null,
   "metadata": {},
   "outputs": [],
   "source": [
    "demora_na_contemplacao = \"\"\"\n",
    "\n",
    "\"\"\"\n",
    "\n",
    "lance_muito_alto = \"\"\"\n",
    "\n",
    "\"\"\"\n",
    "\n",
    "desistiu_do_consorcio = \"\"\"\n",
    "\n",
    "\"\"\"\n",
    "\n",
    "financeiro = \"\"\"\n",
    "\n",
    "\"\"\"\n",
    "resposta = chain.invoke(lance_muito_alto)\n",
    "\n",
    "print(resposta)"
   ]
  },
  {
   "cell_type": "markdown",
   "metadata": {},
   "source": [
    "## Extração de Sentimentos"
   ]
  },
  {
   "cell_type": "markdown",
   "metadata": {},
   "source": [
    "### Criando Template"
   ]
  },
  {
   "cell_type": "code",
   "execution_count": 6,
   "metadata": {},
   "outputs": [],
   "source": [
    "template_sentimentos = PromptTemplate(\n",
    "    input_variables=[\"frase\"],\n",
    "    template=\"\"\"\n",
    "        Reconheça todos os termos de aspecto com sua polaridade de sentimento correspondente\n",
    "        na revisão dada delimitada por aspas triplas. Os termos de aspecto são substantivos \n",
    "        ou frases que aparecem na revisão que indicam aspectos ou características específicas \n",
    "        do produto/serviço. Determine a polaridade de sentimento a partir das opções \n",
    "        [\\\"positiva\\\", \\\"negativa\\\", \\\"neutra\\\"]. \n",
    "        Responda no formato [\\\"aspecto\\\", \\\"sentimento\\\"] sem qualquer explicação. \n",
    "        Se único objetivo deve ser retornar a analise da polaridade, sem se preocupar com a \n",
    "        frase ou qualquer outro comentário.\n",
    "        Se nenhum termo de aspecto existir, então responda apenas \"[]\".\"\n",
    "        \n",
    "        {frase}\n",
    "    \"\"\"\n",
    ")"
   ]
  },
  {
   "cell_type": "markdown",
   "metadata": {},
   "source": [
    "### Criando Chain"
   ]
  },
  {
   "cell_type": "code",
   "execution_count": 7,
   "metadata": {},
   "outputs": [],
   "source": [
    "chain_sentimento = template_sentimentos | llm"
   ]
  },
  {
   "cell_type": "markdown",
   "metadata": {},
   "source": [
    "### Extraindo Sentimentos da Frase"
   ]
  },
  {
   "cell_type": "code",
   "execution_count": null,
   "metadata": {},
   "outputs": [],
   "source": [
    "demora_na_contemplacao = \"\"\"\n",
    "\n",
    "\"\"\"\n",
    "\n",
    "lance_muito_alto = \"\"\"\n",
    "\n",
    "\"\"\"\n",
    "\n",
    "desistiu_do_consorcio = \"\"\"\n",
    "\n",
    "\"\"\"\n",
    "\n",
    "financeiro = \"\"\"\n",
    "\n",
    "\"\"\"\n",
    "\n",
    "resposta = chain_sentimento.invoke(lance_muito_alto)\n",
    "\n",
    "print(resposta)"
   ]
  }
 ],
 "metadata": {
  "kernelspec": {
   "display_name": ".venv",
   "language": "python",
   "name": "python3"
  },
  "language_info": {
   "codemirror_mode": {
    "name": "ipython",
    "version": 3
   },
   "file_extension": ".py",
   "mimetype": "text/x-python",
   "name": "python",
   "nbconvert_exporter": "python",
   "pygments_lexer": "ipython3",
   "version": "3.11.4"
  }
 },
 "nbformat": 4,
 "nbformat_minor": 2
}
